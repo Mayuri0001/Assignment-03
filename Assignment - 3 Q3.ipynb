{
 "cells": [
  {
   "cell_type": "code",
   "execution_count": 14,
   "id": "96d1871b",
   "metadata": {},
   "outputs": [
    {
     "name": "stdout",
     "output_type": "stream",
     "text": [
      "Original string: The quick Brow Fox\n",
      "Num of upper case character: 3\n",
      "Num of Lower case character: 12\n"
     ]
    }
   ],
   "source": [
    "def str_count(a):\n",
    "    upper= 0\n",
    "    lower = 0\n",
    "    for i in a:\n",
    "        if i.isupper():\n",
    "            upper += 1\n",
    "        elif i.islower():\n",
    "            lower +=1\n",
    "    print(\"Original string:\",a)\n",
    "    print(\"Num of upper case character:\",upper)\n",
    "    print(\"Num of Lower case character:\",lower)\n",
    "str_count(\"The quick Brow Fox\")"
   ]
  },
  {
   "cell_type": "code",
   "execution_count": null,
   "id": "73ccae06",
   "metadata": {},
   "outputs": [],
   "source": []
  }
 ],
 "metadata": {
  "kernelspec": {
   "display_name": "Python 3 (ipykernel)",
   "language": "python",
   "name": "python3"
  },
  "language_info": {
   "codemirror_mode": {
    "name": "ipython",
    "version": 3
   },
   "file_extension": ".py",
   "mimetype": "text/x-python",
   "name": "python",
   "nbconvert_exporter": "python",
   "pygments_lexer": "ipython3",
   "version": "3.10.2"
  }
 },
 "nbformat": 4,
 "nbformat_minor": 5
}
