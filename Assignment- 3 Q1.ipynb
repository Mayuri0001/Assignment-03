{
 "cells": [
  {
   "cell_type": "code",
   "execution_count": 4,
   "id": "868934fd",
   "metadata": {},
   "outputs": [
    {
     "data": {
      "text/plain": [
       "20"
      ]
     },
     "execution_count": 4,
     "metadata": {},
     "output_type": "execute_result"
    }
   ],
   "source": [
    "def add_num(*num):\n",
    "    no1 = 0\n",
    "    for i in num:\n",
    "        no1 += i\n",
    "    return no1\n",
    "add_num(8,2,3,0,7)"
   ]
  },
  {
   "cell_type": "code",
   "execution_count": null,
   "id": "ee26d67a",
   "metadata": {},
   "outputs": [],
   "source": []
  }
 ],
 "metadata": {
  "kernelspec": {
   "display_name": "Python 3 (ipykernel)",
   "language": "python",
   "name": "python3"
  },
  "language_info": {
   "codemirror_mode": {
    "name": "ipython",
    "version": 3
   },
   "file_extension": ".py",
   "mimetype": "text/x-python",
   "name": "python",
   "nbconvert_exporter": "python",
   "pygments_lexer": "ipython3",
   "version": "3.10.2"
  }
 },
 "nbformat": 4,
 "nbformat_minor": 5
}
